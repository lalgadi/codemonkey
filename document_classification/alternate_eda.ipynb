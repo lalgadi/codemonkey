{
 "cells": [
  {
   "cell_type": "code",
   "execution_count": 2,
   "metadata": {
    "collapsed": true
   },
   "outputs": [],
   "source": [
    "%matplotlib inline\n",
    "import pandas as pd\n",
    "import numpy as np\n",
    "import seaborn as sns\n",
    "from IPython.core.display import HTML"
   ]
  },
  {
   "cell_type": "code",
   "execution_count": 18,
   "metadata": {
    "collapsed": false
   },
   "outputs": [
    {
     "data": {
      "text/plain": [
       "concept\n",
       "Manufacturing        151\n",
       "Machining            139\n",
       "Materials science    120\n",
       "Measurement          106\n",
       "Cutting              106\n",
       "dtype: int64"
      ]
     },
     "execution_count": 18,
     "metadata": {},
     "output_type": "execute_result"
    }
   ],
   "source": [
    "#reading csv of known data in to pandas\n",
    "c_df = pd.DataFrame.from_csv('../../data/cirp_concepts_unwind.csv', index_col=None)\n",
    "c_cpt_series = c_df.groupby('concept').size().sort_values(ascending=False).head(100)\n",
    "c_cpt_series.head()"
   ]
  },
  {
   "cell_type": "code",
   "execution_count": 35,
   "metadata": {
    "collapsed": false
   },
   "outputs": [],
   "source": [
    "concept_sample = c_cpt_series.index.tolist()\n",
    "c_df_fltrd = c_df[c_df.concept.isin(concept_sample)]"
   ]
  },
  {
   "cell_type": "code",
   "execution_count": 23,
   "metadata": {
    "collapsed": false,
    "scrolled": true
   },
   "outputs": [
    {
     "data": {
      "text/html": [
       "<div>\n",
       "<table border=\"1\" class=\"dataframe\">\n",
       "  <thead>\n",
       "    <tr style=\"text-align: right;\">\n",
       "      <th></th>\n",
       "      <th>_id</th>\n",
       "      <th>event_short_name</th>\n",
       "      <th>event_year</th>\n",
       "      <th>title</th>\n",
       "      <th>abstract</th>\n",
       "      <th>concept</th>\n",
       "      <th>concept_relevance</th>\n",
       "    </tr>\n",
       "  </thead>\n",
       "  <tbody>\n",
       "    <tr>\n",
       "      <th>0</th>\n",
       "      <td>CIRP_20080101_2008-57-1-0001-A</td>\n",
       "      <td>CIRP</td>\n",
       "      <td>2008</td>\n",
       "      <td>Assessment of products for optimal lifetime</td>\n",
       "      <td>Sustainable manufacturing requires products to...</td>\n",
       "      <td>Engineering</td>\n",
       "      <td>0.853031</td>\n",
       "    </tr>\n",
       "    <tr>\n",
       "      <th>1</th>\n",
       "      <td>CIRP_20080101_2008-57-1-0001-A</td>\n",
       "      <td>CIRP</td>\n",
       "      <td>2008</td>\n",
       "      <td>Assessment of products for optimal lifetime</td>\n",
       "      <td>Sustainable manufacturing requires products to...</td>\n",
       "      <td>Technology</td>\n",
       "      <td>0.790793</td>\n",
       "    </tr>\n",
       "  </tbody>\n",
       "</table>\n",
       "</div>"
      ],
      "text/plain": [
       "                              _id event_short_name  event_year  \\\n",
       "0  CIRP_20080101_2008-57-1-0001-A             CIRP        2008   \n",
       "1  CIRP_20080101_2008-57-1-0001-A             CIRP        2008   \n",
       "\n",
       "                                         title  \\\n",
       "0  Assessment of products for optimal lifetime   \n",
       "1  Assessment of products for optimal lifetime   \n",
       "\n",
       "                                            abstract      concept  \\\n",
       "0  Sustainable manufacturing requires products to...  Engineering   \n",
       "1  Sustainable manufacturing requires products to...   Technology   \n",
       "\n",
       "   concept_relevance  \n",
       "0           0.853031  \n",
       "1           0.790793  "
      ]
     },
     "execution_count": 23,
     "metadata": {},
     "output_type": "execute_result"
    }
   ],
   "source": [
    "c_df_fltrd.head(2)"
   ]
  },
  {
   "cell_type": "code",
   "execution_count": 29,
   "metadata": {
    "collapsed": true
   },
   "outputs": [],
   "source": [
    "\"\"\"Fuction definitions\"\"\"\n",
    "def drawSampleConcepts(obj):\n",
    "    \"\"\"Drawing a sample\"\"\"\n",
    "    return obj.sample(10).concept.as_matrix().tolist()\n",
    "\n",
    "def filterData(dfObj, listOfConcepts):\n",
    "    \"\"\"filter data\"\"\"\n",
    "    ##Filter the known data frame with above sample concept array\n",
    "    fs = dfObj[dfObj.concept.isin(listOfConcepts)].groupby(['event_year', 'concept']).size()   \n",
    "    yr =[]\n",
    "    concept=[]\n",
    "    ct=[]\n",
    "    for i in fs.iteritems():\n",
    "        yr.append(i[0][0])\n",
    "        concept.append(i[0][1])\n",
    "        ct.append(i[1])\n",
    "    return pd.DataFrame({'year':yr, 'concept':concept, 'ct':ct})    \n",
    "\n",
    "def plotHeatMap(filteredData):\n",
    "    \"\"\"plotting heat map\"\"\"\n",
    "    sns.heatmap(filteredData.pivot('concept','year').fillna(0),annot=True)\n",
    "    \n",
    "def plotPairGrid(filteredData):\n",
    "    filteredData = filteredf\n",
    "    \"\"\"plotting pair grid\"\"\"\n",
    "    pivoted_df = filteredData.pivot('concept','year').fillna(0)\n",
    "    cols = pivoted_df.ct.columns.tolist()\n",
    "    cols.append('concept')\n",
    "    \n",
    "    idx_vals = pivoted_df.ct.index.values.tolist()\n",
    "    rows = pivoted_df.ct.values.tolist()\n",
    "\n",
    "    idx=0\n",
    "    for r in rows:\n",
    "        r.append(idx_vals[idx])\n",
    "        idx+=1        \n",
    "    f =  pd.DataFrame(rows, columns=cols)\n",
    "    # Make the PairGrid\n",
    "    g = sns.PairGrid(f,\n",
    "                     x_vars=f.columns[0:8], y_vars=[\"concept\"],\n",
    "                     size=10, aspect=.5)\n",
    "\n",
    "    # Draw a dot plot using the stripplot function\n",
    "    g.map(sns.stripplot, size=10, orient=\"h\",\n",
    "          palette=\"Reds_r\", edgecolor=\"gray\")\n",
    "\n",
    "    # Use the same x axis limits on all columns and add better labels\n",
    "    g.set(xlim=(0, 25), xlabel=\"Count\", ylabel=\"\")\n",
    "\n",
    "    # Use semantically meaningful titles for the columns\n",
    "    titles = [\"2008\", \"2009\", \"2010\",\n",
    "              \"2011\", \"2012\", \"2013\",\"2014\",\"2015\"]\n",
    "\n",
    "    for ax, title in zip(g.axes.flat, titles):\n",
    "\n",
    "        # Set a different title for each axes\n",
    "        ax.set(title=title)\n",
    "\n",
    "        # Make the grid horizontal instead of vertical\n",
    "        ax.xaxis.grid(False)\n",
    "        ax.yaxis.grid(True)\n",
    "    sns.despine(left=True, bottom=True)"
   ]
  },
  {
   "cell_type": "code",
   "execution_count": 28,
   "metadata": {
    "collapsed": false
   },
   "outputs": [
    {
     "name": "stdout",
     "output_type": "stream",
     "text": [
      "number of document 1096\n"
     ]
    }
   ],
   "source": [
    "## lost a few docs due to filtering by top 100 concepts\n",
    "print('number of document', c_df_fltrd._id.nunique()) "
   ]
  },
  {
   "cell_type": "code",
   "execution_count": 30,
   "metadata": {
    "collapsed": false
   },
   "outputs": [
    {
     "data": {
      "text/html": [
       "<div>\n",
       "<table border=\"1\" class=\"dataframe\">\n",
       "  <thead>\n",
       "    <tr style=\"text-align: right;\">\n",
       "      <th></th>\n",
       "      <th>_id</th>\n",
       "      <th>event_short_name</th>\n",
       "      <th>event_year</th>\n",
       "      <th>concept</th>\n",
       "      <th>concept_relevance</th>\n",
       "    </tr>\n",
       "  </thead>\n",
       "  <tbody>\n",
       "    <tr>\n",
       "      <th>0</th>\n",
       "      <td>NSF_20080101_0851691</td>\n",
       "      <td>NSF</td>\n",
       "      <td>2008.0</td>\n",
       "      <td>Ocean</td>\n",
       "      <td>0.953185</td>\n",
       "    </tr>\n",
       "    <tr>\n",
       "      <th>1</th>\n",
       "      <td>NSF_20080101_0851691</td>\n",
       "      <td>NSF</td>\n",
       "      <td>2008.0</td>\n",
       "      <td>Scientific method</td>\n",
       "      <td>0.657547</td>\n",
       "    </tr>\n",
       "    <tr>\n",
       "      <th>2</th>\n",
       "      <td>NSF_20080101_0851691</td>\n",
       "      <td>NSF</td>\n",
       "      <td>2008.0</td>\n",
       "      <td>Atlantic Ocean</td>\n",
       "      <td>0.596994</td>\n",
       "    </tr>\n",
       "    <tr>\n",
       "      <th>3</th>\n",
       "      <td>NSF_20080101_0851691</td>\n",
       "      <td>NSF</td>\n",
       "      <td>2008.0</td>\n",
       "      <td>Oceanography</td>\n",
       "      <td>0.583006</td>\n",
       "    </tr>\n",
       "    <tr>\n",
       "      <th>4</th>\n",
       "      <td>NSF_20080101_0851691</td>\n",
       "      <td>NSF</td>\n",
       "      <td>2008.0</td>\n",
       "      <td>Water</td>\n",
       "      <td>0.570854</td>\n",
       "    </tr>\n",
       "  </tbody>\n",
       "</table>\n",
       "</div>"
      ],
      "text/plain": [
       "                    _id event_short_name  event_year            concept  \\\n",
       "0  NSF_20080101_0851691              NSF      2008.0              Ocean   \n",
       "1  NSF_20080101_0851691              NSF      2008.0  Scientific method   \n",
       "2  NSF_20080101_0851691              NSF      2008.0     Atlantic Ocean   \n",
       "3  NSF_20080101_0851691              NSF      2008.0       Oceanography   \n",
       "4  NSF_20080101_0851691              NSF      2008.0              Water   \n",
       "\n",
       "   concept_relevance  \n",
       "0           0.953185  \n",
       "1           0.657547  \n",
       "2           0.596994  \n",
       "3           0.583006  \n",
       "4           0.570854  "
      ]
     },
     "execution_count": 30,
     "metadata": {},
     "output_type": "execute_result"
    }
   ],
   "source": [
    "#reading csv of unclassified data in to pandas\n",
    "unc_df_2008 = pd.DataFrame.from_csv('../../data/nsf_concepts_unwind_2008.csv', index_col=None)\n",
    "unc_df_2009 = pd.DataFrame.from_csv('../../data/nsf_concepts_unwind_2009.csv', index_col=None)\n",
    "unc_df_2010 = pd.DataFrame.from_csv('../../data/nsf_concepts_unwind_2010.csv', index_col=None)\n",
    "unc_df_2011 = pd.DataFrame.from_csv('../../data/nsf_concepts_unwind_2011.csv', index_col=None)\n",
    "unc_df_2012 = pd.DataFrame.from_csv('../../data/nsf_concepts_unwind_2012.csv', index_col=None)\n",
    "unc_df_2013 = pd.DataFrame.from_csv('../../data/nsf_concepts_unwind_2013.csv', index_col=None)\n",
    "unc_df_2014 = pd.DataFrame.from_csv('../../data/nsf_concepts_unwind_2014.csv', index_col=None)\n",
    "unc_df_2015 = pd.DataFrame.from_csv('../../data/nsf_concepts_unwind_2015.csv', index_col=None)\n",
    "\n",
    "unc_df = unc_df_2008.append([unc_df_2009,unc_df_2010,unc_df_2011,unc_df_2012,unc_df_2013,unc_df_2014,unc_df_2015])\n",
    "unc_df.head()"
   ]
  },
  {
   "cell_type": "code",
   "execution_count": 31,
   "metadata": {
    "collapsed": false
   },
   "outputs": [
    {
     "data": {
      "text/html": [
       "<div>\n",
       "<table border=\"1\" class=\"dataframe\">\n",
       "  <thead>\n",
       "    <tr style=\"text-align: right;\">\n",
       "      <th></th>\n",
       "      <th>_id</th>\n",
       "      <th>event_short_name</th>\n",
       "      <th>event_year</th>\n",
       "      <th>concept</th>\n",
       "      <th>concept_relevance</th>\n",
       "    </tr>\n",
       "  </thead>\n",
       "  <tbody>\n",
       "    <tr>\n",
       "      <th>0</th>\n",
       "      <td>NSF_20080101_0851691</td>\n",
       "      <td>NSF</td>\n",
       "      <td>2008.0</td>\n",
       "      <td>Ocean</td>\n",
       "      <td>0.953185</td>\n",
       "    </tr>\n",
       "    <tr>\n",
       "      <th>8</th>\n",
       "      <td>NSF_20080101_0825701</td>\n",
       "      <td>NSF</td>\n",
       "      <td>2008.0</td>\n",
       "      <td>Atlantic Ocean</td>\n",
       "      <td>0.989232</td>\n",
       "    </tr>\n",
       "    <tr>\n",
       "      <th>16</th>\n",
       "      <td>NSF_20080101_0853294</td>\n",
       "      <td>NSF</td>\n",
       "      <td>2008.0</td>\n",
       "      <td>Monte Carlo methods in finance</td>\n",
       "      <td>0.969555</td>\n",
       "    </tr>\n",
       "    <tr>\n",
       "      <th>24</th>\n",
       "      <td>NSF_20080101_0802587</td>\n",
       "      <td>NSF</td>\n",
       "      <td>2008.0</td>\n",
       "      <td>Research</td>\n",
       "      <td>0.909247</td>\n",
       "    </tr>\n",
       "    <tr>\n",
       "      <th>26</th>\n",
       "      <td>NSF_20080101_0853108</td>\n",
       "      <td>NSF</td>\n",
       "      <td>2008.0</td>\n",
       "      <td>Protein folding</td>\n",
       "      <td>0.974933</td>\n",
       "    </tr>\n",
       "  </tbody>\n",
       "</table>\n",
       "</div>"
      ],
      "text/plain": [
       "                     _id event_short_name  event_year  \\\n",
       "0   NSF_20080101_0851691              NSF      2008.0   \n",
       "8   NSF_20080101_0825701              NSF      2008.0   \n",
       "16  NSF_20080101_0853294              NSF      2008.0   \n",
       "24  NSF_20080101_0802587              NSF      2008.0   \n",
       "26  NSF_20080101_0853108              NSF      2008.0   \n",
       "\n",
       "                           concept  concept_relevance  \n",
       "0                            Ocean           0.953185  \n",
       "8                   Atlantic Ocean           0.989232  \n",
       "16  Monte Carlo methods in finance           0.969555  \n",
       "24                        Research           0.909247  \n",
       "26                 Protein folding           0.974933  "
      ]
     },
     "execution_count": 31,
     "metadata": {},
     "output_type": "execute_result"
    }
   ],
   "source": [
    "##lets get the documents that are unique and store them in a frame, we can use this for sampling.\n",
    "unc_uq_docs = unc_df.drop_duplicates('_id')\n",
    "unc_uq_docs.head()"
   ]
  },
  {
   "cell_type": "code",
   "execution_count": 40,
   "metadata": {
    "collapsed": true
   },
   "outputs": [],
   "source": [
    "###Draw a sample from unclassified dataset, about 1000 documents and use that as a negative sample.\n",
    "#neg_df_docs = unc_df.join(unc_uq_docs.sample(1000), how='inner')\n",
    "x = unc_uq_docs.sample(1000).drop(['event_short_name', 'event_year','concept','concept_relevance'], axis = 1)\n",
    "x.head()\n",
    "neg_df = pd.merge(unc_df, x , on='_id', how='inner')"
   ]
  },
  {
   "cell_type": "code",
   "execution_count": 41,
   "metadata": {
    "collapsed": false
   },
   "outputs": [
    {
     "name": "stdout",
     "output_type": "stream",
     "text": [
      "Number of documents: 1000\n",
      "Total Concepts: 7747\n",
      "Unique Concepts: 2688\n"
     ]
    }
   ],
   "source": [
    "print('Number of documents:',neg_df._id.nunique())\n",
    "print('Total Concepts:', len(neg_df))\n",
    "print('Unique Concepts:', neg_df.concept.nunique())"
   ]
  },
  {
   "cell_type": "code",
   "execution_count": 48,
   "metadata": {
    "collapsed": false,
    "scrolled": true
   },
   "outputs": [
    {
     "name": "stdout",
     "output_type": "stream",
     "text": [
      "Negative Sample filtered by concept_sample\n"
     ]
    },
    {
     "data": {
      "text/plain": [
       "<matplotlib.axes._subplots.AxesSubplot at 0xea9d908>"
      ]
     },
     "execution_count": 48,
     "metadata": {},
     "output_type": "execute_result"
    },
    {
     "data": {
      "image/png": "[encoded data removed]",
      "text/plain": [
       "<matplotlib.figure.Figure at 0xef08240>"
      ]
     },
     "metadata": {},
     "output_type": "display_data"
    }
   ],
   "source": [
    "#filter the unc negative sample data frame using concept_sample1\n",
    "neg_df_fltr1 = filterData(neg_df,concept_sample)\n",
    "print(\"Negative Sample filtered by concept_sample\")\n",
    "neg_df_fltr1.groupby('concept').size().plot(kind='bar')"
   ]
  },
  {
   "cell_type": "code",
   "execution_count": 51,
   "metadata": {
    "collapsed": false
   },
   "outputs": [
    {
     "data": {
      "text/plain": [
       "381"
      ]
     },
     "execution_count": 51,
     "metadata": {},
     "output_type": "execute_result"
    }
   ],
   "source": [
    "#potentially manufacturing information\n",
    "neg_df[neg_df.concept.isin(concept_sample)]._id.nunique()"
   ]
  },
  {
   "cell_type": "code",
   "execution_count": null,
   "metadata": {
    "collapsed": true
   },
   "outputs": [],
   "source": []
  }
 ],
 "metadata": {
  "kernelspec": {
   "display_name": "Python 3",
   "language": "python",
   "name": "python3"
  },
  "language_info": {
   "codemirror_mode": {
    "name": "ipython",
    "version": 3
   },
   "file_extension": ".py",
   "mimetype": "text/x-python",
   "name": "python",
   "nbconvert_exporter": "python",
   "pygments_lexer": "ipython3",
   "version": "3.5.1"
  }
 },
 "nbformat": 4,
 "nbformat_minor": 0
}

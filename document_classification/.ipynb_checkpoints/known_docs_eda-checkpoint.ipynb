{
 "cells": [
  {
   "cell_type": "code",
   "execution_count": 205,
   "metadata": {
    "collapsed": false
   },
   "outputs": [],
   "source": [
    "%matplotlib inline\n",
    "import pandas as pd\n",
    "import numpy as np\n",
    "import seaborn as sns"
   ]
  },
  {
   "cell_type": "code",
   "execution_count": 42,
   "metadata": {
    "collapsed": false
   },
   "outputs": [],
   "source": [
    "from IPython.core.display import HTML"
   ]
  },
  {
   "cell_type": "code",
   "execution_count": 43,
   "metadata": {
    "collapsed": false,
    "scrolled": false
   },
   "outputs": [
    {
     "data": {
      "text/html": [
       "<div>\n",
       "<table border=\"1\" class=\"dataframe\">\n",
       "  <thead>\n",
       "    <tr style=\"text-align: right;\">\n",
       "      <th></th>\n",
       "      <th>_id</th>\n",
       "      <th>event_short_name</th>\n",
       "      <th>event_year</th>\n",
       "      <th>title</th>\n",
       "      <th>abstract</th>\n",
       "      <th>concept</th>\n",
       "      <th>concept_relevance</th>\n",
       "    </tr>\n",
       "  </thead>\n",
       "  <tbody>\n",
       "    <tr>\n",
       "      <th>0</th>\n",
       "      <td>CIRP_20080101_2008-57-1-0001-A</td>\n",
       "      <td>CIRP</td>\n",
       "      <td>2008</td>\n",
       "      <td>Assessment of products for optimal lifetime</td>\n",
       "      <td>Sustainable manufacturing requires products to...</td>\n",
       "      <td>Engineering</td>\n",
       "      <td>0.853031</td>\n",
       "    </tr>\n",
       "    <tr>\n",
       "      <th>1</th>\n",
       "      <td>CIRP_20080101_2008-57-1-0001-A</td>\n",
       "      <td>CIRP</td>\n",
       "      <td>2008</td>\n",
       "      <td>Assessment of products for optimal lifetime</td>\n",
       "      <td>Sustainable manufacturing requires products to...</td>\n",
       "      <td>Technology</td>\n",
       "      <td>0.790793</td>\n",
       "    </tr>\n",
       "    <tr>\n",
       "      <th>2</th>\n",
       "      <td>CIRP_20080101_2008-57-1-0001-A</td>\n",
       "      <td>CIRP</td>\n",
       "      <td>2008</td>\n",
       "      <td>Assessment of products for optimal lifetime</td>\n",
       "      <td>Sustainable manufacturing requires products to...</td>\n",
       "      <td>Industrial design</td>\n",
       "      <td>0.747593</td>\n",
       "    </tr>\n",
       "    <tr>\n",
       "      <th>3</th>\n",
       "      <td>CIRP_20080101_2008-57-1-0001-A</td>\n",
       "      <td>CIRP</td>\n",
       "      <td>2008</td>\n",
       "      <td>Assessment of products for optimal lifetime</td>\n",
       "      <td>Sustainable manufacturing requires products to...</td>\n",
       "      <td>Katharine McPhee</td>\n",
       "      <td>0.704206</td>\n",
       "    </tr>\n",
       "    <tr>\n",
       "      <th>4</th>\n",
       "      <td>CIRP_20080101_2008-57-1-0001-A</td>\n",
       "      <td>CIRP</td>\n",
       "      <td>2008</td>\n",
       "      <td>Assessment of products for optimal lifetime</td>\n",
       "      <td>Sustainable manufacturing requires products to...</td>\n",
       "      <td>Science</td>\n",
       "      <td>0.658686</td>\n",
       "    </tr>\n",
       "  </tbody>\n",
       "</table>\n",
       "</div>"
      ],
      "text/plain": [
       "                              _id event_short_name  event_year  \\\n",
       "0  CIRP_20080101_2008-57-1-0001-A             CIRP        2008   \n",
       "1  CIRP_20080101_2008-57-1-0001-A             CIRP        2008   \n",
       "2  CIRP_20080101_2008-57-1-0001-A             CIRP        2008   \n",
       "3  CIRP_20080101_2008-57-1-0001-A             CIRP        2008   \n",
       "4  CIRP_20080101_2008-57-1-0001-A             CIRP        2008   \n",
       "\n",
       "                                         title  \\\n",
       "0  Assessment of products for optimal lifetime   \n",
       "1  Assessment of products for optimal lifetime   \n",
       "2  Assessment of products for optimal lifetime   \n",
       "3  Assessment of products for optimal lifetime   \n",
       "4  Assessment of products for optimal lifetime   \n",
       "\n",
       "                                            abstract            concept  \\\n",
       "0  Sustainable manufacturing requires products to...        Engineering   \n",
       "1  Sustainable manufacturing requires products to...         Technology   \n",
       "2  Sustainable manufacturing requires products to...  Industrial design   \n",
       "3  Sustainable manufacturing requires products to...   Katharine McPhee   \n",
       "4  Sustainable manufacturing requires products to...            Science   \n",
       "\n",
       "   concept_relevance  \n",
       "0           0.853031  \n",
       "1           0.790793  \n",
       "2           0.747593  \n",
       "3           0.704206  \n",
       "4           0.658686  "
      ]
     },
     "execution_count": 43,
     "metadata": {},
     "output_type": "execute_result"
    }
   ],
   "source": [
    "#reading csv of known data in to pandas\n",
    "doc_concepts = pd.DataFrame.from_csv('../../data/cirp_concepts_unwind.csv', index_col=None)\n",
    "doc_concepts.head()"
   ]
  },
  {
   "cell_type": "code",
   "execution_count": 107,
   "metadata": {
    "collapsed": false,
    "scrolled": true
   },
   "outputs": [
    {
     "name": "stdout",
     "output_type": "stream",
     "text": [
      "Number of documents: 1205\n",
      "Total Concepts: 8985\n",
      "Unique Concepts: 2220\n"
     ]
    }
   ],
   "source": [
    "#####NUMBER OF UNIQUE DOCUMENTS\n",
    "dc = doc_concepts\n",
    "dc._id.nunique()\n",
    "print('Number of documents:',dc._id.nunique())\n",
    "print('Total Concepts:', len(dc))\n",
    "print('Unique Concepts:', dc.concept.nunique())\n"
   ]
  },
  {
   "cell_type": "code",
   "execution_count": 45,
   "metadata": {
    "collapsed": false,
    "scrolled": true
   },
   "outputs": [
    {
     "data": {
      "text/plain": [
       "<matplotlib.axes._subplots.AxesSubplot at 0xde76e80>"
      ]
     },
     "execution_count": 45,
     "metadata": {},
     "output_type": "execute_result"
    },
    {
     "data": {
      "image/png": "[encoded data removed]",
      "text/plain": [
       "<matplotlib.figure.Figure at 0xde76470>"
      ]
     },
     "metadata": {},
     "output_type": "display_data"
    }
   ],
   "source": [
    "docs = dc.groupby(['event_year'])['_id'].nunique()\n",
    "docs.plot(kind='bar')"
   ]
  },
  {
   "cell_type": "code",
   "execution_count": 46,
   "metadata": {
    "collapsed": false
   },
   "outputs": [
    {
     "data": {
      "text/plain": [
       "<matplotlib.axes._subplots.AxesSubplot at 0xde8ea58>"
      ]
     },
     "execution_count": 46,
     "metadata": {},
     "output_type": "execute_result"
    },
    {
     "data": {
      "image/png": "[encoded data removed]",
      "text/plain": [
       "<matplotlib.figure.Figure at 0xdedc6d8>"
      ]
     },
     "metadata": {},
     "output_type": "display_data"
    }
   ],
   "source": [
    "cpts = dc.groupby(['event_year'])['concept'].size()\n",
    "cpts.plot(kind='bar')"
   ]
  },
  {
   "cell_type": "code",
   "execution_count": 47,
   "metadata": {
    "collapsed": false,
    "scrolled": true
   },
   "outputs": [
    {
     "data": {
      "text/plain": [
       "<matplotlib.axes._subplots.AxesSubplot at 0xdf15e80>"
      ]
     },
     "execution_count": 47,
     "metadata": {},
     "output_type": "execute_result"
    },
    {
     "data": {
      "image/png": "[encoded data removed]",
      "text/plain": [
       "<matplotlib.figure.Figure at 0xef44f60>"
      ]
     },
     "metadata": {},
     "output_type": "display_data"
    }
   ],
   "source": [
    "#####NUMBER OF UNIQUE CONCEPTS BY YEAR\n",
    "u_cpts = dc.groupby(['event_year'])['concept'].nunique()\n",
    "u_cpts.plot(kind='bar')"
   ]
  },
  {
   "cell_type": "code",
   "execution_count": 48,
   "metadata": {
    "collapsed": false
   },
   "outputs": [
    {
     "data": {
      "text/plain": [
       "<matplotlib.axes._subplots.AxesSubplot at 0xef6c240>"
      ]
     },
     "execution_count": 48,
     "metadata": {},
     "output_type": "execute_result"
    },
    {
     "data": {
      "image/png": "[encoded data removed]",
      "text/plain": [
       "<matplotlib.figure.Figure at 0xefbf198>"
      ]
     },
     "metadata": {},
     "output_type": "display_data"
    }
   ],
   "source": [
    "##plot a scatter graph to understand the correlation between number of documents and unique concepts\n",
    "##it appears that the more documents result in more unique concepts - DOESNT HOLD TRUE\n",
    "sc_f = pd.DataFrame({'year':docs.index, 'doc_count': docs.values, 'uq_cpt_count':u_cpts.values})\n",
    "sc_f.plot(kind='scatter', y='uq_cpt_count', x='doc_count')"
   ]
  },
  {
   "cell_type": "code",
   "execution_count": 83,
   "metadata": {
    "collapsed": false
   },
   "outputs": [
    {
     "data": {
      "text/plain": [
       "<matplotlib.axes._subplots.AxesSubplot at 0xf8a9080>"
      ]
     },
     "execution_count": 83,
     "metadata": {},
     "output_type": "execute_result"
    },
    {
     "data": {
      "image/png": "[encoded data removed]",
      "text/plain": [
       "<matplotlib.figure.Figure at 0xf8ad518>"
      ]
     },
     "metadata": {},
     "output_type": "display_data"
    }
   ],
   "source": [
    "##bar chart of comparison of concepts to unique concepts by year\n",
    "bc_f = pd.DataFrame({'year':cpts.index, 'cpts_count': cpts.values, 'uq_cpt_count':u_cpts.values})\n",
    "bc_f.plot(kind='bar', x='year')"
   ]
  },
  {
   "cell_type": "code",
   "execution_count": 84,
   "metadata": {
    "collapsed": false
   },
   "outputs": [
    {
     "data": {
      "text/plain": [
       "<matplotlib.axes._subplots.AxesSubplot at 0xf9a17b8>"
      ]
     },
     "execution_count": 84,
     "metadata": {},
     "output_type": "execute_result"
    },
    {
     "data": {
      "image/png": "[encoded data removed]",
      "text/plain": [
       "<matplotlib.figure.Figure at 0xf9687b8>"
      ]
     },
     "metadata": {},
     "output_type": "display_data"
    }
   ],
   "source": [
    "##bar chart of percent difference of concept count, unique concept count by year::\n",
    "bc_f['percent_change'] = (((bc_f.cpts_count - bc_f.uq_cpt_count))/bc_f.cpts_count) * 100\n",
    "bc_f.plot(kind='bar', x='year', y='percent_change')"
   ]
  },
  {
   "cell_type": "code",
   "execution_count": 50,
   "metadata": {
    "collapsed": false,
    "scrolled": false
   },
   "outputs": [
    {
     "name": "stdout",
     "output_type": "stream",
     "text": [
      "relevance mean: 0.6770014888146936\n",
      "relevance median: 0.6619470000000001\n"
     ]
    }
   ],
   "source": [
    "print(\"relevance mean:\", dc['concept_relevance'].mean())\n",
    "print(\"relevance median:\", dc['concept_relevance'].median())"
   ]
  },
  {
   "cell_type": "code",
   "execution_count": 86,
   "metadata": {
    "collapsed": false,
    "scrolled": true
   },
   "outputs": [
    {
     "data": {
      "text/plain": [
       "<matplotlib.axes._subplots.AxesSubplot at 0xdca3ba8>"
      ]
     },
     "execution_count": 86,
     "metadata": {},
     "output_type": "execute_result"
    },
    {
     "data": {
      "image/png": "[encoded data removed]",
      "text/plain": [
       "<matplotlib.figure.Figure at 0xfa56748>"
      ]
     },
     "metadata": {},
     "output_type": "display_data"
    }
   ],
   "source": [
    "###\n",
    "### Plot a chart by relevance\n",
    "###\n",
    "dc.concept_relevance.hist(bins=100)"
   ]
  },
  {
   "cell_type": "code",
   "execution_count": 52,
   "metadata": {
    "collapsed": true
   },
   "outputs": [],
   "source": [
    "#######\n",
    "###### CUT OFF THE RELEVANCE AT 0.9 to draw sample concepts\n",
    "######"
   ]
  },
  {
   "cell_type": "code",
   "execution_count": 110,
   "metadata": {
    "collapsed": false
   },
   "outputs": [
    {
     "name": "stdout",
     "output_type": "stream",
     "text": [
      "Number of documents: 1188\n",
      "Total Concepts: 1553\n",
      "Unique Concepts: 531\n"
     ]
    }
   ],
   "source": [
    "###adding relevance cutoff\n",
    "dcrel = doc_concepts\n",
    "dcrel = dcrel[dcrel.concept_relevance >= 0.9]\n",
    "dcrel._id.nunique()\n",
    "\n",
    "#####NUMBER OF UNIQUE CONCEPTS\n",
    "dcrel.concept.nunique()\n",
    "print('Number of documents:',dcrel._id.nunique())\n",
    "print('Total Concepts:', len(dcrel))\n",
    "print('Unique Concepts:', dcrel.concept.nunique())\n"
   ]
  },
  {
   "cell_type": "code",
   "execution_count": 130,
   "metadata": {
    "collapsed": false
   },
   "outputs": [
    {
     "data": {
      "text/plain": [
       "array(['Fluid dynamics', 'Temperature', 'Measurement', 'Milling cutter',\n",
       "       'Computer-aided design', 'Welding', 'Simulation',\n",
       "       'Kanagawa Prefecture', 'Social network', 'Uncertainty'], dtype=object)"
      ]
     },
     "execution_count": 130,
     "metadata": {},
     "output_type": "execute_result"
    }
   ],
   "source": [
    "sample_concepts = dcrel.sample(10).concept.as_matrix()\n",
    "sample_concepts"
   ]
  },
  {
   "cell_type": "code",
   "execution_count": 209,
   "metadata": {
    "collapsed": false,
    "scrolled": false
   },
   "outputs": [
    {
     "data": {
      "text/html": [
       "<div>\n",
       "<table border=\"1\" class=\"dataframe\">\n",
       "  <thead>\n",
       "    <tr style=\"text-align: right;\">\n",
       "      <th></th>\n",
       "      <th>_id</th>\n",
       "      <th>event_short_name</th>\n",
       "      <th>event_year</th>\n",
       "      <th>title</th>\n",
       "      <th>abstract</th>\n",
       "      <th>concept</th>\n",
       "      <th>concept_relevance</th>\n",
       "    </tr>\n",
       "  </thead>\n",
       "  <tbody>\n",
       "    <tr>\n",
       "      <th>0</th>\n",
       "      <td>CIRP_20080101_2008-57-1-0001-A</td>\n",
       "      <td>CIRP</td>\n",
       "      <td>2008</td>\n",
       "      <td>Assessment of products for optimal lifetime</td>\n",
       "      <td>Sustainable manufacturing requires products to...</td>\n",
       "      <td>Engineering</td>\n",
       "      <td>0.853031</td>\n",
       "    </tr>\n",
       "    <tr>\n",
       "      <th>1</th>\n",
       "      <td>CIRP_20080101_2008-57-1-0001-A</td>\n",
       "      <td>CIRP</td>\n",
       "      <td>2008</td>\n",
       "      <td>Assessment of products for optimal lifetime</td>\n",
       "      <td>Sustainable manufacturing requires products to...</td>\n",
       "      <td>Technology</td>\n",
       "      <td>0.790793</td>\n",
       "    </tr>\n",
       "  </tbody>\n",
       "</table>\n",
       "</div>"
      ],
      "text/plain": [
       "                              _id event_short_name  event_year  \\\n",
       "0  CIRP_20080101_2008-57-1-0001-A             CIRP        2008   \n",
       "1  CIRP_20080101_2008-57-1-0001-A             CIRP        2008   \n",
       "\n",
       "                                         title  \\\n",
       "0  Assessment of products for optimal lifetime   \n",
       "1  Assessment of products for optimal lifetime   \n",
       "\n",
       "                                            abstract      concept  \\\n",
       "0  Sustainable manufacturing requires products to...  Engineering   \n",
       "1  Sustainable manufacturing requires products to...   Technology   \n",
       "\n",
       "   concept_relevance  \n",
       "0           0.853031  \n",
       "1           0.790793  "
      ]
     },
     "execution_count": 209,
     "metadata": {},
     "output_type": "execute_result"
    }
   ],
   "source": [
    "#dcrel.head(600).pivot('_id','concept','concept_relevance')\n",
    "dc.head(2)"
   ]
  },
  {
   "cell_type": "code",
   "execution_count": 289,
   "metadata": {
    "collapsed": false,
    "scrolled": true
   },
   "outputs": [
    {
     "data": {
      "text/html": [
       "<div>\n",
       "<table border=\"1\" class=\"dataframe\">\n",
       "  <thead>\n",
       "    <tr style=\"text-align: right;\">\n",
       "      <th></th>\n",
       "      <th>concept</th>\n",
       "      <th>ct</th>\n",
       "      <th>year</th>\n",
       "    </tr>\n",
       "  </thead>\n",
       "  <tbody>\n",
       "    <tr>\n",
       "      <th>0</th>\n",
       "      <td>Computer-aided design</td>\n",
       "      <td>2</td>\n",
       "      <td>2008</td>\n",
       "    </tr>\n",
       "    <tr>\n",
       "      <th>1</th>\n",
       "      <td>Fluid dynamics</td>\n",
       "      <td>5</td>\n",
       "      <td>2008</td>\n",
       "    </tr>\n",
       "    <tr>\n",
       "      <th>2</th>\n",
       "      <td>Measurement</td>\n",
       "      <td>16</td>\n",
       "      <td>2008</td>\n",
       "    </tr>\n",
       "    <tr>\n",
       "      <th>3</th>\n",
       "      <td>Milling cutter</td>\n",
       "      <td>5</td>\n",
       "      <td>2008</td>\n",
       "    </tr>\n",
       "    <tr>\n",
       "      <th>4</th>\n",
       "      <td>Simulation</td>\n",
       "      <td>3</td>\n",
       "      <td>2008</td>\n",
       "    </tr>\n",
       "  </tbody>\n",
       "</table>\n",
       "</div>"
      ],
      "text/plain": [
       "                 concept  ct  year\n",
       "0  Computer-aided design   2  2008\n",
       "1         Fluid dynamics   5  2008\n",
       "2            Measurement  16  2008\n",
       "3         Milling cutter   5  2008\n",
       "4             Simulation   3  2008"
      ]
     },
     "execution_count": 289,
     "metadata": {},
     "output_type": "execute_result"
    }
   ],
   "source": [
    "##Filter the known data frame with above sample concept array\n",
    "filtered_dc = dc[dc.concept.isin(sample_concepts)]\n",
    "fs = filtered_dc.groupby(['event_year', 'concept']).size()\n",
    "yr =[]\n",
    "concept=[]\n",
    "ct=[]\n",
    "for i in fs.iteritems():\n",
    "    #td = pd.DataFrame({'year':i[0][0], 'concept':i[0][1], 'ct':i[1]})\n",
    "    yr.append(i[0][0])\n",
    "    concept.append(i[0][1])\n",
    "    ct.append(i[1])\n",
    "grp_data = pd.DataFrame({'year':yr, 'concept':concept, 'ct':ct})\n",
    "grp_data.head()\n"
   ]
  },
  {
   "cell_type": "code",
   "execution_count": 471,
   "metadata": {
    "collapsed": false
   },
   "outputs": [
    {
     "data": {
      "text/html": [
       "<div>\n",
       "<table border=\"1\" class=\"dataframe\">\n",
       "  <thead>\n",
       "    <tr>\n",
       "      <th></th>\n",
       "      <th colspan=\"8\" halign=\"left\">ct</th>\n",
       "    </tr>\n",
       "    <tr>\n",
       "      <th>year</th>\n",
       "      <th>2008</th>\n",
       "      <th>2009</th>\n",
       "      <th>2010</th>\n",
       "      <th>2011</th>\n",
       "      <th>2012</th>\n",
       "      <th>2013</th>\n",
       "      <th>2014</th>\n",
       "      <th>2015</th>\n",
       "    </tr>\n",
       "    <tr>\n",
       "      <th>concept</th>\n",
       "      <th></th>\n",
       "      <th></th>\n",
       "      <th></th>\n",
       "      <th></th>\n",
       "      <th></th>\n",
       "      <th></th>\n",
       "      <th></th>\n",
       "      <th></th>\n",
       "    </tr>\n",
       "  </thead>\n",
       "  <tbody>\n",
       "    <tr>\n",
       "      <th>Computer-aided design</th>\n",
       "      <td>2.0</td>\n",
       "      <td>1.0</td>\n",
       "      <td>1.0</td>\n",
       "      <td>0.0</td>\n",
       "      <td>1.0</td>\n",
       "      <td>5.0</td>\n",
       "      <td>3.0</td>\n",
       "      <td>4.0</td>\n",
       "    </tr>\n",
       "    <tr>\n",
       "      <th>Fluid dynamics</th>\n",
       "      <td>5.0</td>\n",
       "      <td>5.0</td>\n",
       "      <td>2.0</td>\n",
       "      <td>3.0</td>\n",
       "      <td>4.0</td>\n",
       "      <td>3.0</td>\n",
       "      <td>4.0</td>\n",
       "      <td>4.0</td>\n",
       "    </tr>\n",
       "    <tr>\n",
       "      <th>Kanagawa Prefecture</th>\n",
       "      <td>0.0</td>\n",
       "      <td>0.0</td>\n",
       "      <td>0.0</td>\n",
       "      <td>0.0</td>\n",
       "      <td>0.0</td>\n",
       "      <td>0.0</td>\n",
       "      <td>1.0</td>\n",
       "      <td>1.0</td>\n",
       "    </tr>\n",
       "    <tr>\n",
       "      <th>Measurement</th>\n",
       "      <td>16.0</td>\n",
       "      <td>9.0</td>\n",
       "      <td>16.0</td>\n",
       "      <td>11.0</td>\n",
       "      <td>16.0</td>\n",
       "      <td>12.0</td>\n",
       "      <td>13.0</td>\n",
       "      <td>13.0</td>\n",
       "    </tr>\n",
       "  </tbody>\n",
       "</table>\n",
       "</div>"
      ],
      "text/plain": [
       "                         ct                                         \n",
       "year                   2008 2009  2010  2011  2012  2013  2014  2015\n",
       "concept                                                             \n",
       "Computer-aided design   2.0  1.0   1.0   0.0   1.0   5.0   3.0   4.0\n",
       "Fluid dynamics          5.0  5.0   2.0   3.0   4.0   3.0   4.0   4.0\n",
       "Kanagawa Prefecture     0.0  0.0   0.0   0.0   0.0   0.0   1.0   1.0\n",
       "Measurement            16.0  9.0  16.0  11.0  16.0  12.0  13.0  13.0"
      ]
     },
     "execution_count": 471,
     "metadata": {},
     "output_type": "execute_result"
    }
   ],
   "source": [
    "grp_data_t = grp_data.pivot('concept','year').fillna(0)\n",
    "grp_data_t.head(4)"
   ]
  },
  {
   "cell_type": "code",
   "execution_count": 436,
   "metadata": {
    "collapsed": false
   },
   "outputs": [],
   "source": [
    "\n",
    "#print(grp_data_t)\n",
    "#print(grp_data_t.ct.columns)\n",
    "#print(grp_data_t.ct.values)\n",
    "#print(grp_data_t.ct.index)\n",
    "#grp_data_t['ct'].values\n",
    "#grp_data_t['ct'].index\n",
    "#grp_data_t_df = pd.DataFrame(grp_data_t['ct'].values, index=grp_data_t['ct'].index, columns=grp_data_t['ct'].columns)\n",
    "##iterate rows\n",
    "    ## iterate columns\n",
    "cols = grp_data_t.ct.columns.values"
   ]
  },
  {
   "cell_type": "code",
   "execution_count": 455,
   "metadata": {
    "collapsed": false
   },
   "outputs": [
    {
     "data": {
      "text/plain": [
       "[2008, 2009, 2010, 2011, 2012, 2013, 2014, 2015, 'concept']"
      ]
     },
     "execution_count": 455,
     "metadata": {},
     "output_type": "execute_result"
    }
   ],
   "source": [
    "cols = grp_data_t.ct.columns.tolist()\n",
    "cols.append('concept')\n",
    "cols"
   ]
  },
  {
   "cell_type": "code",
   "execution_count": 458,
   "metadata": {
    "collapsed": false,
    "scrolled": true
   },
   "outputs": [
    {
     "data": {
      "text/plain": [
       "['Computer-aided design',\n",
       " 'Fluid dynamics',\n",
       " 'Kanagawa Prefecture',\n",
       " 'Measurement',\n",
       " 'Milling cutter',\n",
       " 'Simulation',\n",
       " 'Social network',\n",
       " 'Temperature',\n",
       " 'Uncertainty',\n",
       " 'Welding']"
      ]
     },
     "execution_count": 458,
     "metadata": {},
     "output_type": "execute_result"
    }
   ],
   "source": [
    "idx_vals = grp_data_t.ct.index.values.tolist()\n",
    "idx_vals"
   ]
  },
  {
   "cell_type": "code",
   "execution_count": 462,
   "metadata": {
    "collapsed": false
   },
   "outputs": [
    {
     "data": {
      "text/plain": [
       "[[2.0, 1.0, 1.0, 0.0, 1.0, 5.0, 3.0, 4.0],\n",
       " [5.0, 5.0, 2.0, 3.0, 4.0, 3.0, 4.0, 4.0],\n",
       " [0.0, 0.0, 0.0, 0.0, 0.0, 0.0, 1.0, 1.0],\n",
       " [16.0, 9.0, 16.0, 11.0, 16.0, 12.0, 13.0, 13.0],\n",
       " [5.0, 8.0, 5.0, 5.0, 4.0, 6.0, 3.0, 3.0],\n",
       " [3.0, 6.0, 2.0, 2.0, 1.0, 1.0, 4.0, 2.0],\n",
       " [0.0, 0.0, 0.0, 0.0, 1.0, 1.0, 2.0, 2.0],\n",
       " [7.0, 4.0, 6.0, 6.0, 9.0, 7.0, 8.0, 7.0],\n",
       " [5.0, 5.0, 7.0, 5.0, 4.0, 4.0, 5.0, 3.0],\n",
       " [3.0, 3.0, 4.0, 2.0, 2.0, 4.0, 1.0, 5.0]]"
      ]
     },
     "execution_count": 462,
     "metadata": {},
     "output_type": "execute_result"
    }
   ],
   "source": [
    "rows = grp_data_t.ct.values.tolist()\n",
    "rows"
   ]
  },
  {
   "cell_type": "code",
   "execution_count": 463,
   "metadata": {
    "collapsed": false
   },
   "outputs": [
    {
     "data": {
      "text/plain": [
       "[[2.0, 1.0, 1.0, 0.0, 1.0, 5.0, 3.0, 4.0, 'Computer-aided design'],\n",
       " [5.0, 5.0, 2.0, 3.0, 4.0, 3.0, 4.0, 4.0, 'Fluid dynamics'],\n",
       " [0.0, 0.0, 0.0, 0.0, 0.0, 0.0, 1.0, 1.0, 'Kanagawa Prefecture'],\n",
       " [16.0, 9.0, 16.0, 11.0, 16.0, 12.0, 13.0, 13.0, 'Measurement'],\n",
       " [5.0, 8.0, 5.0, 5.0, 4.0, 6.0, 3.0, 3.0, 'Milling cutter'],\n",
       " [3.0, 6.0, 2.0, 2.0, 1.0, 1.0, 4.0, 2.0, 'Simulation'],\n",
       " [0.0, 0.0, 0.0, 0.0, 1.0, 1.0, 2.0, 2.0, 'Social network'],\n",
       " [7.0, 4.0, 6.0, 6.0, 9.0, 7.0, 8.0, 7.0, 'Temperature'],\n",
       " [5.0, 5.0, 7.0, 5.0, 4.0, 4.0, 5.0, 3.0, 'Uncertainty'],\n",
       " [3.0, 3.0, 4.0, 2.0, 2.0, 4.0, 1.0, 5.0, 'Welding']]"
      ]
     },
     "execution_count": 463,
     "metadata": {},
     "output_type": "execute_result"
    }
   ],
   "source": [
    "idx=0\n",
    "for r in rows:\n",
    "    r.append(idx_vals[idx])\n",
    "    idx+=1\n",
    "    #print(r)\n",
    "rows"
   ]
  },
  {
   "cell_type": "code",
   "execution_count": 465,
   "metadata": {
    "collapsed": false
   },
   "outputs": [
    {
     "data": {
      "text/html": [
       "<div>\n",
       "<table border=\"1\" class=\"dataframe\">\n",
       "  <thead>\n",
       "    <tr style=\"text-align: right;\">\n",
       "      <th></th>\n",
       "      <th>2008</th>\n",
       "      <th>2009</th>\n",
       "      <th>2010</th>\n",
       "      <th>2011</th>\n",
       "      <th>2012</th>\n",
       "      <th>2013</th>\n",
       "      <th>2014</th>\n",
       "      <th>2015</th>\n",
       "      <th>concept</th>\n",
       "    </tr>\n",
       "  </thead>\n",
       "  <tbody>\n",
       "    <tr>\n",
       "      <th>0</th>\n",
       "      <td>2.0</td>\n",
       "      <td>1.0</td>\n",
       "      <td>1.0</td>\n",
       "      <td>0.0</td>\n",
       "      <td>1.0</td>\n",
       "      <td>5.0</td>\n",
       "      <td>3.0</td>\n",
       "      <td>4.0</td>\n",
       "      <td>Computer-aided design</td>\n",
       "    </tr>\n",
       "    <tr>\n",
       "      <th>1</th>\n",
       "      <td>5.0</td>\n",
       "      <td>5.0</td>\n",
       "      <td>2.0</td>\n",
       "      <td>3.0</td>\n",
       "      <td>4.0</td>\n",
       "      <td>3.0</td>\n",
       "      <td>4.0</td>\n",
       "      <td>4.0</td>\n",
       "      <td>Fluid dynamics</td>\n",
       "    </tr>\n",
       "    <tr>\n",
       "      <th>2</th>\n",
       "      <td>0.0</td>\n",
       "      <td>0.0</td>\n",
       "      <td>0.0</td>\n",
       "      <td>0.0</td>\n",
       "      <td>0.0</td>\n",
       "      <td>0.0</td>\n",
       "      <td>1.0</td>\n",
       "      <td>1.0</td>\n",
       "      <td>Kanagawa Prefecture</td>\n",
       "    </tr>\n",
       "    <tr>\n",
       "      <th>3</th>\n",
       "      <td>16.0</td>\n",
       "      <td>9.0</td>\n",
       "      <td>16.0</td>\n",
       "      <td>11.0</td>\n",
       "      <td>16.0</td>\n",
       "      <td>12.0</td>\n",
       "      <td>13.0</td>\n",
       "      <td>13.0</td>\n",
       "      <td>Measurement</td>\n",
       "    </tr>\n",
       "    <tr>\n",
       "      <th>4</th>\n",
       "      <td>5.0</td>\n",
       "      <td>8.0</td>\n",
       "      <td>5.0</td>\n",
       "      <td>5.0</td>\n",
       "      <td>4.0</td>\n",
       "      <td>6.0</td>\n",
       "      <td>3.0</td>\n",
       "      <td>3.0</td>\n",
       "      <td>Milling cutter</td>\n",
       "    </tr>\n",
       "    <tr>\n",
       "      <th>5</th>\n",
       "      <td>3.0</td>\n",
       "      <td>6.0</td>\n",
       "      <td>2.0</td>\n",
       "      <td>2.0</td>\n",
       "      <td>1.0</td>\n",
       "      <td>1.0</td>\n",
       "      <td>4.0</td>\n",
       "      <td>2.0</td>\n",
       "      <td>Simulation</td>\n",
       "    </tr>\n",
       "    <tr>\n",
       "      <th>6</th>\n",
       "      <td>0.0</td>\n",
       "      <td>0.0</td>\n",
       "      <td>0.0</td>\n",
       "      <td>0.0</td>\n",
       "      <td>1.0</td>\n",
       "      <td>1.0</td>\n",
       "      <td>2.0</td>\n",
       "      <td>2.0</td>\n",
       "      <td>Social network</td>\n",
       "    </tr>\n",
       "    <tr>\n",
       "      <th>7</th>\n",
       "      <td>7.0</td>\n",
       "      <td>4.0</td>\n",
       "      <td>6.0</td>\n",
       "      <td>6.0</td>\n",
       "      <td>9.0</td>\n",
       "      <td>7.0</td>\n",
       "      <td>8.0</td>\n",
       "      <td>7.0</td>\n",
       "      <td>Temperature</td>\n",
       "    </tr>\n",
       "    <tr>\n",
       "      <th>8</th>\n",
       "      <td>5.0</td>\n",
       "      <td>5.0</td>\n",
       "      <td>7.0</td>\n",
       "      <td>5.0</td>\n",
       "      <td>4.0</td>\n",
       "      <td>4.0</td>\n",
       "      <td>5.0</td>\n",
       "      <td>3.0</td>\n",
       "      <td>Uncertainty</td>\n",
       "    </tr>\n",
       "    <tr>\n",
       "      <th>9</th>\n",
       "      <td>3.0</td>\n",
       "      <td>3.0</td>\n",
       "      <td>4.0</td>\n",
       "      <td>2.0</td>\n",
       "      <td>2.0</td>\n",
       "      <td>4.0</td>\n",
       "      <td>1.0</td>\n",
       "      <td>5.0</td>\n",
       "      <td>Welding</td>\n",
       "    </tr>\n",
       "  </tbody>\n",
       "</table>\n",
       "</div>"
      ],
      "text/plain": [
       "   2008  2009  2010  2011  2012  2013  2014  2015                concept\n",
       "0   2.0   1.0   1.0   0.0   1.0   5.0   3.0   4.0  Computer-aided design\n",
       "1   5.0   5.0   2.0   3.0   4.0   3.0   4.0   4.0         Fluid dynamics\n",
       "2   0.0   0.0   0.0   0.0   0.0   0.0   1.0   1.0    Kanagawa Prefecture\n",
       "3  16.0   9.0  16.0  11.0  16.0  12.0  13.0  13.0            Measurement\n",
       "4   5.0   8.0   5.0   5.0   4.0   6.0   3.0   3.0         Milling cutter\n",
       "5   3.0   6.0   2.0   2.0   1.0   1.0   4.0   2.0             Simulation\n",
       "6   0.0   0.0   0.0   0.0   1.0   1.0   2.0   2.0         Social network\n",
       "7   7.0   4.0   6.0   6.0   9.0   7.0   8.0   7.0            Temperature\n",
       "8   5.0   5.0   7.0   5.0   4.0   4.0   5.0   3.0            Uncertainty\n",
       "9   3.0   3.0   4.0   2.0   2.0   4.0   1.0   5.0                Welding"
      ]
     },
     "execution_count": 465,
     "metadata": {},
     "output_type": "execute_result"
    }
   ],
   "source": [
    "f =  pd.DataFrame(rows, columns=cols)\n",
    "f"
   ]
  },
  {
   "cell_type": "code",
   "execution_count": null,
   "metadata": {
    "collapsed": true
   },
   "outputs": [],
   "source": []
  },
  {
   "cell_type": "code",
   "execution_count": null,
   "metadata": {
    "collapsed": true
   },
   "outputs": [],
   "source": []
  },
  {
   "cell_type": "code",
   "execution_count": 475,
   "metadata": {
    "collapsed": false
   },
   "outputs": [
    {
     "data": {
      "image/png": "[encoded data removed]",
      "text/plain": [
       "<matplotlib.figure.Figure at 0x138d6358>"
      ]
     },
     "metadata": {},
     "output_type": "display_data"
    }
   ],
   "source": [
    "# Make the PairGrid\n",
    "g = sns.PairGrid(f,\n",
    "                 x_vars=f.columns[0:7], y_vars=[\"concept\"],\n",
    "                 size=10, aspect=.5)\n",
    "\n",
    "# Draw a dot plot using the stripplot function\n",
    "g.map(sns.stripplot, size=10, orient=\"h\",\n",
    "      palette=\"Reds_r\", edgecolor=\"gray\")\n",
    "\n",
    "# Use the same x axis limits on all columns and add better labels\n",
    "g.set(xlim=(0, 25), xlabel=\"Count\", ylabel=\"\")\n",
    "\n",
    "# Use semantically meaningful titles for the columns\n",
    "titles = [\"2008\", \"2009\", \"2010\",\n",
    "          \"2011\", \"2012\", \"2013\",\"2014\",\"2015\"]\n",
    "\n",
    "for ax, title in zip(g.axes.flat, titles):\n",
    "\n",
    "    # Set a different title for each axes\n",
    "    ax.set(title=title)\n",
    "\n",
    "    # Make the grid horizontal instead of vertical\n",
    "    ax.xaxis.grid(False)\n",
    "    ax.yaxis.grid(True)\n",
    "\n",
    "sns.despine(left=True, bottom=True)\n",
    "###SOME HOW GET THE GROUPED DATA IN TO A WAY THAT CAN BE PAIR PLOTTED\n",
    "#https://stanford.edu/~mwaskom/software/seaborn/examples/pairgrid_dotplot.html"
   ]
  },
  {
   "cell_type": "code",
   "execution_count": 133,
   "metadata": {
    "collapsed": false
   },
   "outputs": [
    {
     "data": {
      "text/html": [
       "<div>\n",
       "<table border=\"1\" class=\"dataframe\">\n",
       "  <thead>\n",
       "    <tr style=\"text-align: right;\">\n",
       "      <th></th>\n",
       "      <th>_id</th>\n",
       "      <th>event_short_name</th>\n",
       "      <th>event_year</th>\n",
       "      <th>title</th>\n",
       "      <th>abstract</th>\n",
       "      <th>concept</th>\n",
       "      <th>concept_relevance</th>\n",
       "    </tr>\n",
       "  </thead>\n",
       "  <tbody>\n",
       "    <tr>\n",
       "      <th>0</th>\n",
       "      <td>CIRP_20080101_2008-57-1-0001-A</td>\n",
       "      <td>CIRP</td>\n",
       "      <td>2008</td>\n",
       "      <td>Assessment of products for optimal lifetime</td>\n",
       "      <td>Sustainable manufacturing requires products to...</td>\n",
       "      <td>Engineering</td>\n",
       "      <td>0.853031</td>\n",
       "    </tr>\n",
       "    <tr>\n",
       "      <th>1</th>\n",
       "      <td>CIRP_20080101_2008-57-1-0001-A</td>\n",
       "      <td>CIRP</td>\n",
       "      <td>2008</td>\n",
       "      <td>Assessment of products for optimal lifetime</td>\n",
       "      <td>Sustainable manufacturing requires products to...</td>\n",
       "      <td>Technology</td>\n",
       "      <td>0.790793</td>\n",
       "    </tr>\n",
       "    <tr>\n",
       "      <th>2</th>\n",
       "      <td>CIRP_20080101_2008-57-1-0001-A</td>\n",
       "      <td>CIRP</td>\n",
       "      <td>2008</td>\n",
       "      <td>Assessment of products for optimal lifetime</td>\n",
       "      <td>Sustainable manufacturing requires products to...</td>\n",
       "      <td>Industrial design</td>\n",
       "      <td>0.747593</td>\n",
       "    </tr>\n",
       "    <tr>\n",
       "      <th>3</th>\n",
       "      <td>CIRP_20080101_2008-57-1-0001-A</td>\n",
       "      <td>CIRP</td>\n",
       "      <td>2008</td>\n",
       "      <td>Assessment of products for optimal lifetime</td>\n",
       "      <td>Sustainable manufacturing requires products to...</td>\n",
       "      <td>Katharine McPhee</td>\n",
       "      <td>0.704206</td>\n",
       "    </tr>\n",
       "    <tr>\n",
       "      <th>4</th>\n",
       "      <td>CIRP_20080101_2008-57-1-0001-A</td>\n",
       "      <td>CIRP</td>\n",
       "      <td>2008</td>\n",
       "      <td>Assessment of products for optimal lifetime</td>\n",
       "      <td>Sustainable manufacturing requires products to...</td>\n",
       "      <td>Science</td>\n",
       "      <td>0.658686</td>\n",
       "    </tr>\n",
       "  </tbody>\n",
       "</table>\n",
       "</div>"
      ],
      "text/plain": [
       "                              _id event_short_name  event_year  \\\n",
       "0  CIRP_20080101_2008-57-1-0001-A             CIRP        2008   \n",
       "1  CIRP_20080101_2008-57-1-0001-A             CIRP        2008   \n",
       "2  CIRP_20080101_2008-57-1-0001-A             CIRP        2008   \n",
       "3  CIRP_20080101_2008-57-1-0001-A             CIRP        2008   \n",
       "4  CIRP_20080101_2008-57-1-0001-A             CIRP        2008   \n",
       "\n",
       "                                         title  \\\n",
       "0  Assessment of products for optimal lifetime   \n",
       "1  Assessment of products for optimal lifetime   \n",
       "2  Assessment of products for optimal lifetime   \n",
       "3  Assessment of products for optimal lifetime   \n",
       "4  Assessment of products for optimal lifetime   \n",
       "\n",
       "                                            abstract            concept  \\\n",
       "0  Sustainable manufacturing requires products to...        Engineering   \n",
       "1  Sustainable manufacturing requires products to...         Technology   \n",
       "2  Sustainable manufacturing requires products to...  Industrial design   \n",
       "3  Sustainable manufacturing requires products to...   Katharine McPhee   \n",
       "4  Sustainable manufacturing requires products to...            Science   \n",
       "\n",
       "   concept_relevance  \n",
       "0           0.853031  \n",
       "1           0.790793  \n",
       "2           0.747593  \n",
       "3           0.704206  \n",
       "4           0.658686  "
      ]
     },
     "execution_count": 133,
     "metadata": {},
     "output_type": "execute_result"
    }
   ],
   "source": [
    "dc.head()"
   ]
  },
  {
   "cell_type": "code",
   "execution_count": null,
   "metadata": {
    "collapsed": true
   },
   "outputs": [],
   "source": []
  }
 ],
 "metadata": {
  "kernelspec": {
   "display_name": "Python 3",
   "language": "python",
   "name": "python3"
  },
  "language_info": {
   "codemirror_mode": {
    "name": "ipython",
    "version": 3
   },
   "file_extension": ".py",
   "mimetype": "text/x-python",
   "name": "python",
   "nbconvert_exporter": "python",
   "pygments_lexer": "ipython3",
   "version": "3.5.1"
  }
 },
 "nbformat": 4,
 "nbformat_minor": 0
}

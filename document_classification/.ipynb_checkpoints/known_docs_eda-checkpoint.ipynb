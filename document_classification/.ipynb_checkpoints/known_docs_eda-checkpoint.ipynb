{
 "cells": [
  {
   "cell_type": "code",
   "execution_count": 205,
   "metadata": {
    "collapsed": false
   },
   "outputs": [],
   "source": [
    "%matplotlib inline\n",
    "import pandas as pd\n",
    "import numpy as np\n",
    "import seaborn as sns"
   ]
  },
  {
   "cell_type": "code",
   "execution_count": 42,
   "metadata": {
    "collapsed": false
   },
   "outputs": [],
   "source": [
    "from IPython.core.display import HTML"
   ]
  },
  {
   "cell_type": "code",
   "execution_count": 43,
   "metadata": {
    "collapsed": false,
    "scrolled": false
   },
   "outputs": [
    {
     "data": {
      "text/html": [
       "<div>\n",
       "<table border=\"1\" class=\"dataframe\">\n",
       "  <thead>\n",
       "    <tr style=\"text-align: right;\">\n",
       "      <th></th>\n",
       "      <th>_id</th>\n",
       "      <th>event_short_name</th>\n",
       "      <th>event_year</th>\n",
       "      <th>title</th>\n",
       "      <th>abstract</th>\n",
       "      <th>concept</th>\n",
       "      <th>concept_relevance</th>\n",
       "    </tr>\n",
       "  </thead>\n",
       "  <tbody>\n",
       "    <tr>\n",
       "      <th>0</th>\n",
       "      <td>CIRP_20080101_2008-57-1-0001-A</td>\n",
       "      <td>CIRP</td>\n",
       "      <td>2008</td>\n",
       "      <td>Assessment of products for optimal lifetime</td>\n",
       "      <td>Sustainable manufacturing requires products to...</td>\n",
       "      <td>Engineering</td>\n",
       "      <td>0.853031</td>\n",
       "    </tr>\n",
       "    <tr>\n",
       "      <th>1</th>\n",
       "      <td>CIRP_20080101_2008-57-1-0001-A</td>\n",
       "      <td>CIRP</td>\n",
       "      <td>2008</td>\n",
       "      <td>Assessment of products for optimal lifetime</td>\n",
       "      <td>Sustainable manufacturing requires products to...</td>\n",
       "      <td>Technology</td>\n",
       "      <td>0.790793</td>\n",
       "    </tr>\n",
       "    <tr>\n",
       "      <th>2</th>\n",
       "      <td>CIRP_20080101_2008-57-1-0001-A</td>\n",
       "      <td>CIRP</td>\n",
       "      <td>2008</td>\n",
       "      <td>Assessment of products for optimal lifetime</td>\n",
       "      <td>Sustainable manufacturing requires products to...</td>\n",
       "      <td>Industrial design</td>\n",
       "      <td>0.747593</td>\n",
       "    </tr>\n",
       "    <tr>\n",
       "      <th>3</th>\n",
       "      <td>CIRP_20080101_2008-57-1-0001-A</td>\n",
       "      <td>CIRP</td>\n",
       "      <td>2008</td>\n",
       "      <td>Assessment of products for optimal lifetime</td>\n",
       "      <td>Sustainable manufacturing requires products to...</td>\n",
       "      <td>Katharine McPhee</td>\n",
       "      <td>0.704206</td>\n",
       "    </tr>\n",
       "    <tr>\n",
       "      <th>4</th>\n",
       "      <td>CIRP_20080101_2008-57-1-0001-A</td>\n",
       "      <td>CIRP</td>\n",
       "      <td>2008</td>\n",
       "      <td>Assessment of products for optimal lifetime</td>\n",
       "      <td>Sustainable manufacturing requires products to...</td>\n",
       "      <td>Science</td>\n",
       "      <td>0.658686</td>\n",
       "    </tr>\n",
       "  </tbody>\n",
       "</table>\n",
       "</div>"
      ],
      "text/plain": [
       "                              _id event_short_name  event_year  \\\n",
       "0  CIRP_20080101_2008-57-1-0001-A             CIRP        2008   \n",
       "1  CIRP_20080101_2008-57-1-0001-A             CIRP        2008   \n",
       "2  CIRP_20080101_2008-57-1-0001-A             CIRP        2008   \n",
       "3  CIRP_20080101_2008-57-1-0001-A             CIRP        2008   \n",
       "4  CIRP_20080101_2008-57-1-0001-A             CIRP        2008   \n",
       "\n",
       "                                         title  \\\n",
       "0  Assessment of products for optimal lifetime   \n",
       "1  Assessment of products for optimal lifetime   \n",
       "2  Assessment of products for optimal lifetime   \n",
       "3  Assessment of products for optimal lifetime   \n",
       "4  Assessment of products for optimal lifetime   \n",
       "\n",
       "                                            abstract            concept  \\\n",
       "0  Sustainable manufacturing requires products to...        Engineering   \n",
       "1  Sustainable manufacturing requires products to...         Technology   \n",
       "2  Sustainable manufacturing requires products to...  Industrial design   \n",
       "3  Sustainable manufacturing requires products to...   Katharine McPhee   \n",
       "4  Sustainable manufacturing requires products to...            Science   \n",
       "\n",
       "   concept_relevance  \n",
       "0           0.853031  \n",
       "1           0.790793  \n",
       "2           0.747593  \n",
       "3           0.704206  \n",
       "4           0.658686  "
      ]
     },
     "execution_count": 43,
     "metadata": {},
     "output_type": "execute_result"
    }
   ],
   "source": [
    "#reading csv of known data in to pandas\n",
    "doc_concepts = pd.DataFrame.from_csv('../../data/cirp_concepts_unwind.csv', index_col=None)\n",
    "doc_concepts.head()"
   ]
  },
  {
   "cell_type": "code",
   "execution_count": 107,
   "metadata": {
    "collapsed": false,
    "scrolled": true
   },
   "outputs": [
    {
     "name": "stdout",
     "output_type": "stream",
     "text": [
      "Number of documents: 1205\n",
      "Total Concepts: 8985\n",
      "Unique Concepts: 2220\n"
     ]
    }
   ],
   "source": [
    "#####NUMBER OF UNIQUE DOCUMENTS\n",
    "dc = doc_concepts\n",
    "dc._id.nunique()\n",
    "print('Number of documents:',dc._id.nunique())\n",
    "print('Total Concepts:', len(dc))\n",
    "print('Unique Concepts:', dc.concept.nunique())\n"
   ]
  },
  {
   "cell_type": "code",
   "execution_count": 45,
   "metadata": {
    "collapsed": false,
    "scrolled": true
   },
   "outputs": [
    {
     "data": {
      "text/plain": [
       "<matplotlib.axes._subplots.AxesSubplot at 0xde76e80>"
      ]
     },
     "execution_count": 45,
     "metadata": {},
     "output_type": "execute_result"
    },
    {
     "data": {
      "image/png": "[encoded data removed]",
      "text/plain": [
       "<matplotlib.figure.Figure at 0xde76470>"
      ]
     },
     "metadata": {},
     "output_type": "display_data"
    }
   ],
   "source": [
    "docs = dc.groupby(['event_year'])['_id'].nunique()\n",
    "docs.plot(kind='bar')"
   ]
  },
  {
   "cell_type": "code",
   "execution_count": 46,
   "metadata": {
    "collapsed": false
   },
   "outputs": [
    {
     "data": {
      "text/plain": [
       "<matplotlib.axes._subplots.AxesSubplot at 0xde8ea58>"
      ]
     },
     "execution_count": 46,
     "metadata": {},
     "output_type": "execute_result"
    },
    {
     "data": {
      "image/png": "[encoded data removed]",
      "text/plain": [
       "<matplotlib.figure.Figure at 0xdedc6d8>"
      ]
     },
     "metadata": {},
     "output_type": "display_data"
    }
   ],
   "source": [
    "cpts = dc.groupby(['event_year'])['concept'].size()\n",
    "cpts.plot(kind='bar')"
   ]
  },
  {
   "cell_type": "code",
   "execution_count": 47,
   "metadata": {
    "collapsed": false,
    "scrolled": true
   },
   "outputs": [
    {
     "data": {
      "text/plain": [
       "<matplotlib.axes._subplots.AxesSubplot at 0xdf15e80>"
      ]
     },
     "execution_count": 47,
     "metadata": {},
     "output_type": "execute_result"
    },
    {
     "data": {
      "image/png": "[encoded data removed]",
      "text/plain": [
       "<matplotlib.figure.Figure at 0xef44f60>"
      ]
     },
     "metadata": {},
     "output_type": "display_data"
    }
   ],
   "source": [
    "#####NUMBER OF UNIQUE CONCEPTS BY YEAR\n",
    "u_cpts = dc.groupby(['event_year'])['concept'].nunique()\n",
    "u_cpts.plot(kind='bar')"
   ]
  },
  {
   "cell_type": "code",
   "execution_count": 48,
   "metadata": {
    "collapsed": false
   },
   "outputs": [
    {
     "data": {
      "text/plain": [
       "<matplotlib.axes._subplots.AxesSubplot at 0xef6c240>"
      ]
     },
     "execution_count": 48,
     "metadata": {},
     "output_type": "execute_result"
    },
    {
     "data": {
      "image/png": "[encoded data removed]",
      "text/plain": [
       "<matplotlib.figure.Figure at 0xefbf198>"
      ]
     },
     "metadata": {},
     "output_type": "display_data"
    }
   ],
   "source": [
    "##plot a scatter graph to understand the correlation between number of documents and unique concepts\n",
    "##it appears that the more documents result in more unique concepts - DOESNT HOLD TRUE\n",
    "sc_f = pd.DataFrame({'year':docs.index, 'doc_count': docs.values, 'uq_cpt_count':u_cpts.values})\n",
    "sc_f.plot(kind='scatter', y='uq_cpt_count', x='doc_count')"
   ]
  },
  {
   "cell_type": "code",
   "execution_count": 83,
   "metadata": {
    "collapsed": false
   },
   "outputs": [
    {
     "data": {
      "text/plain": [
       "<matplotlib.axes._subplots.AxesSubplot at 0xf8a9080>"
      ]
     },
     "execution_count": 83,
     "metadata": {},
     "output_type": "execute_result"
    },
    {
     "data": {
      "image/png": "[encoded data removed]",
      "text/plain": [
       "<matplotlib.figure.Figure at 0xf8ad518>"
      ]
     },
     "metadata": {},
     "output_type": "display_data"
    }
   ],
   "source": [
    "##bar chart of comparison of concepts to unique concepts by year\n",
    "bc_f = pd.DataFrame({'year':cpts.index, 'cpts_count': cpts.values, 'uq_cpt_count':u_cpts.values})\n",
    "bc_f.plot(kind='bar', x='year')"
   ]
  },
  {
   "cell_type": "code",
   "execution_count": 84,
   "metadata": {
    "collapsed": false
   },
   "outputs": [
    {
     "data": {
      "text/plain": [
       "<matplotlib.axes._subplots.AxesSubplot at 0xf9a17b8>"
      ]
     },
     "execution_count": 84,
     "metadata": {},
     "output_type": "execute_result"
    },
    {
     "data": {
      "image/png": "[encoded data removed]",
      "text/plain": [
       "<matplotlib.figure.Figure at 0xf9687b8>"
      ]
     },
     "metadata": {},
     "output_type": "display_data"
    }
   ],
   "source": [
    "##bar chart of percent difference of concept count, unique concept count by year::\n",
    "bc_f['percent_change'] = (((bc_f.cpts_count - bc_f.uq_cpt_count))/bc_f.cpts_count) * 100\n",
    "bc_f.plot(kind='bar', x='year', y='percent_change')"
   ]
  },
  {
   "cell_type": "code",
   "execution_count": 50,
   "metadata": {
    "collapsed": false,
    "scrolled": false
   },
   "outputs": [
    {
     "name": "stdout",
     "output_type": "stream",
     "text": [
      "relevance mean: 0.6770014888146936\n",
      "relevance median: 0.6619470000000001\n"
     ]
    }
   ],
   "source": [
    "print(\"relevance mean:\", dc['concept_relevance'].mean())\n",
    "print(\"relevance median:\", dc['concept_relevance'].median())"
   ]
  },
  {
   "cell_type": "code",
   "execution_count": 86,
   "metadata": {
    "collapsed": false,
    "scrolled": true
   },
   "outputs": [
    {
     "data": {
      "text/plain": [
       "<matplotlib.axes._subplots.AxesSubplot at 0xdca3ba8>"
      ]
     },
     "execution_count": 86,
     "metadata": {},
     "output_type": "execute_result"
    },
    {
     "data": {
      "image/png": "[encoded data removed]",
      "text/plain": [
       "<matplotlib.figure.Figure at 0xfa56748>"
      ]
     },
     "metadata": {},
     "output_type": "display_data"
    }
   ],
   "source": [
    "###\n",
    "### Plot a chart by relevance\n",
    "###\n",
    "dc.concept_relevance.hist(bins=100)"
   ]
  },
  {
   "cell_type": "code",
   "execution_count": 52,
   "metadata": {
    "collapsed": true
   },
   "outputs": [],
   "source": [
    "#######\n",
    "###### CUT OFF THE RELEVANCE AT 0.9 to draw sample concepts\n",
    "######"
   ]
  },
  {
   "cell_type": "code",
   "execution_count": 110,
   "metadata": {
    "collapsed": false
   },
   "outputs": [
    {
     "name": "stdout",
     "output_type": "stream",
     "text": [
      "Number of documents: 1188\n",
      "Total Concepts: 1553\n",
      "Unique Concepts: 531\n"
     ]
    }
   ],
   "source": [
    "###adding relevance cutoff of 0.9\n",
    "dcrel = doc_concepts\n",
    "dcrel = dcrel[dcrel.concept_relevance >= 0.9]\n",
    "dcrel._id.nunique()\n",
    "\n",
    "#####NUMBER OF UNIQUE CONCEPTS\n",
    "dcrel.concept.nunique()\n",
    "print('Number of documents:',dcrel._id.nunique())\n",
    "print('Total Concepts:', len(dcrel))\n",
    "print('Unique Concepts:', dcrel.concept.nunique())\n"
   ]
  },
  {
   "cell_type": "code",
   "execution_count": 130,
   "metadata": {
    "collapsed": false
   },
   "outputs": [
    {
     "data": {
      "text/plain": [
       "array(['Fluid dynamics', 'Temperature', 'Measurement', 'Milling cutter',\n",
       "       'Computer-aided design', 'Welding', 'Simulation',\n",
       "       'Kanagawa Prefecture', 'Social network', 'Uncertainty'], dtype=object)"
      ]
     },
     "execution_count": 130,
     "metadata": {},
     "output_type": "execute_result"
    }
   ],
   "source": [
    "sample_concepts = dcrel.sample(10).concept.as_matrix()\n",
    "sample_concepts"
   ]
  },
  {
   "cell_type": "code",
   "execution_count": 209,
   "metadata": {
    "collapsed": false,
    "scrolled": false
   },
   "outputs": [
    {
     "data": {
      "text/html": [
       "<div>\n",
       "<table border=\"1\" class=\"dataframe\">\n",
       "  <thead>\n",
       "    <tr style=\"text-align: right;\">\n",
       "      <th></th>\n",
       "      <th>_id</th>\n",
       "      <th>event_short_name</th>\n",
       "      <th>event_year</th>\n",
       "      <th>title</th>\n",
       "      <th>abstract</th>\n",
       "      <th>concept</th>\n",
       "      <th>concept_relevance</th>\n",
       "    </tr>\n",
       "  </thead>\n",
       "  <tbody>\n",
       "    <tr>\n",
       "      <th>0</th>\n",
       "      <td>CIRP_20080101_2008-57-1-0001-A</td>\n",
       "      <td>CIRP</td>\n",
       "      <td>2008</td>\n",
       "      <td>Assessment of products for optimal lifetime</td>\n",
       "      <td>Sustainable manufacturing requires products to...</td>\n",
       "      <td>Engineering</td>\n",
       "      <td>0.853031</td>\n",
       "    </tr>\n",
       "    <tr>\n",
       "      <th>1</th>\n",
       "      <td>CIRP_20080101_2008-57-1-0001-A</td>\n",
       "      <td>CIRP</td>\n",
       "      <td>2008</td>\n",
       "      <td>Assessment of products for optimal lifetime</td>\n",
       "      <td>Sustainable manufacturing requires products to...</td>\n",
       "      <td>Technology</td>\n",
       "      <td>0.790793</td>\n",
       "    </tr>\n",
       "  </tbody>\n",
       "</table>\n",
       "</div>"
      ],
      "text/plain": [
       "                              _id event_short_name  event_year  \\\n",
       "0  CIRP_20080101_2008-57-1-0001-A             CIRP        2008   \n",
       "1  CIRP_20080101_2008-57-1-0001-A             CIRP        2008   \n",
       "\n",
       "                                         title  \\\n",
       "0  Assessment of products for optimal lifetime   \n",
       "1  Assessment of products for optimal lifetime   \n",
       "\n",
       "                                            abstract      concept  \\\n",
       "0  Sustainable manufacturing requires products to...  Engineering   \n",
       "1  Sustainable manufacturing requires products to...   Technology   \n",
       "\n",
       "   concept_relevance  \n",
       "0           0.853031  \n",
       "1           0.790793  "
      ]
     },
     "execution_count": 209,
     "metadata": {},
     "output_type": "execute_result"
    }
   ],
   "source": [
    "#dcrel.head(600).pivot('_id','concept','concept_relevance')\n",
    "dc.head(2)"
   ]
  },
  {
   "cell_type": "code",
   "execution_count": 595,
   "metadata": {
    "collapsed": false,
    "scrolled": true
   },
   "outputs": [],
   "source": [
    "\"\"\"Fuction definitions\"\"\"\n",
    "def drawSampleConcepts(obj):\n",
    "    \"\"\"Drawing a sample\"\"\"\n",
    "    return obj.sample(10).concept.as_matrix().tolist()\n",
    "\n",
    "def filterData(dfObj, listOfConcepts):\n",
    "    \"\"\"filter data\"\"\"\n",
    "    ##Filter the known data frame with above sample concept array\n",
    "    fs = dfObj[dfObj.concept.isin(listOfConcepts)].groupby(['event_year', 'concept']).size()   \n",
    "    yr =[]\n",
    "    concept=[]\n",
    "    ct=[]\n",
    "    for i in fs.iteritems():\n",
    "        yr.append(i[0][0])\n",
    "        concept.append(i[0][1])\n",
    "        ct.append(i[1])\n",
    "    return pd.DataFrame({'year':yr, 'concept':concept, 'ct':ct})    \n",
    "\n",
    "def plotHeatMap(filteredData):\n",
    "    \"\"\"plotting heat map\"\"\"\n",
    "    sns.heatmap(filteredData.pivot('concept','year').fillna(0))\n",
    "    \n",
    "def plotPairGrid(filteredData):\n",
    "    filteredData = filteredf\n",
    "    \"\"\"plotting pair grid\"\"\"\n",
    "    pivoted_df = filteredData.pivot('concept','year').fillna(0)\n",
    "    cols = pivoted_df.ct.columns.tolist()\n",
    "    cols.append('concept')\n",
    "    \n",
    "    idx_vals = pivoted_df.ct.index.values.tolist()\n",
    "    rows = pivoted_df.ct.values.tolist()\n",
    "\n",
    "    idx=0\n",
    "    for r in rows:\n",
    "        r.append(idx_vals[idx])\n",
    "        idx+=1        \n",
    "    f =  pd.DataFrame(rows, columns=cols)\n",
    "    # Make the PairGrid\n",
    "    g = sns.PairGrid(f,\n",
    "                     x_vars=f.columns[0:7], y_vars=[\"concept\"],\n",
    "                     size=10, aspect=.5)\n",
    "\n",
    "    # Draw a dot plot using the stripplot function\n",
    "    g.map(sns.stripplot, size=10, orient=\"h\",\n",
    "          palette=\"Reds_r\", edgecolor=\"gray\")\n",
    "\n",
    "    # Use the same x axis limits on all columns and add better labels\n",
    "    g.set(xlim=(0, 25), xlabel=\"Count\", ylabel=\"\")\n",
    "\n",
    "    # Use semantically meaningful titles for the columns\n",
    "    titles = [\"2008\", \"2009\", \"2010\",\n",
    "              \"2011\", \"2012\", \"2013\",\"2014\",\"2015\"]\n",
    "\n",
    "    for ax, title in zip(g.axes.flat, titles):\n",
    "\n",
    "        # Set a different title for each axes\n",
    "        ax.set(title=title)\n",
    "\n",
    "        # Make the grid horizontal instead of vertical\n",
    "        ax.xaxis.grid(False)\n",
    "        ax.yaxis.grid(True)\n",
    "    sns.despine(left=True, bottom=True)"
   ]
  },
  {
   "cell_type": "code",
   "execution_count": 596,
   "metadata": {
    "collapsed": false
   },
   "outputs": [
    {
     "data": {
      "text/plain": [
       "<matplotlib.axes._subplots.AxesSubplot at 0x23370f28>"
      ]
     },
     "execution_count": 596,
     "metadata": {},
     "output_type": "execute_result"
    },
    {
     "data": {
      "image/png": "[encoded data removed]",
      "text/plain": [
       "<matplotlib.figure.Figure at 0x2286e9b0>"
      ]
     },
     "metadata": {},
     "output_type": "display_data"
    },
    {
     "data": {
      "image/png": "[encoded data removed]",
      "text/plain": [
       "<matplotlib.figure.Figure at 0x2272e3c8>"
      ]
     },
     "metadata": {},
     "output_type": "display_data"
    },
    {
     "data": {
      "image/png": "[encoded data removed]",
      "text/plain": [
       "<matplotlib.figure.Figure at 0x2286e358>"
      ]
     },
     "metadata": {},
     "output_type": "display_data"
    }
   ],
   "source": [
    "concept_sample = drawSampleConcepts(dcrel)    \n",
    "filteredf = filterData(doc_concepts,concept_sample)\n",
    "plotHeatMap(filteredf)\n",
    "plotPairGrid(filteredf)"
   ]
  }
 ],
 "metadata": {
  "kernelspec": {
   "display_name": "Python 3",
   "language": "python",
   "name": "python3"
  },
  "language_info": {
   "codemirror_mode": {
    "name": "ipython",
    "version": 3
   },
   "file_extension": ".py",
   "mimetype": "text/x-python",
   "name": "python",
   "nbconvert_exporter": "python",
   "pygments_lexer": "ipython3",
   "version": "3.5.1"
  }
 },
 "nbformat": 4,
 "nbformat_minor": 0
}
